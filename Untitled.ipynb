{
 "cells": [
  {
   "cell_type": "code",
   "execution_count": 9,
   "metadata": {},
   "outputs": [],
   "source": [
    "import numpy as np"
   ]
  },
  {
   "cell_type": "code",
   "execution_count": 7,
   "metadata": {},
   "outputs": [],
   "source": [
    "def pythonsum(n):\n",
    "    a=range(n)\n",
    "    b=range(n)\n",
    "    c=[]\n",
    "    for i in range(len(a)):\n",
    "        a=i**2\n",
    "        b=i**3\n",
    "        c.append(a+b)\n",
    "    return c\n",
    "        "
   ]
  },
  {
   "cell_type": "code",
   "execution_count": 8,
   "metadata": {},
   "outputs": [
    {
     "name": "stdout",
     "output_type": "stream",
     "text": [
      "[0, 2, 12]\n"
     ]
    }
   ],
   "source": [
    "z=pythonsum(3)\n",
    "print(z)"
   ]
  },
  {
   "cell_type": "code",
   "execution_count": 10,
   "metadata": {},
   "outputs": [
    {
     "data": {
      "text/plain": [
       "array([ 0,  2, 12], dtype=int32)"
      ]
     },
     "execution_count": 10,
     "metadata": {},
     "output_type": "execute_result"
    }
   ],
   "source": [
    "def numsum(n):\n",
    "    a=np.arange(n)**2\n",
    "    b=np.arange(n)**3\n",
    "    c=a+b\n",
    "    return c\n",
    "numsum(3)"
   ]
  },
  {
   "cell_type": "code",
   "execution_count": 16,
   "metadata": {},
   "outputs": [
    {
     "name": "stdout",
     "output_type": "stream",
     "text": [
      "the last two number of the c is  [995007996 998001000]\n",
      "the time elapsed in numpy is : 0:00:00.002001\n"
     ]
    }
   ],
   "source": [
    "import sys\n",
    "from datetime import datetime\n",
    "def numsum(n):\n",
    "    a=np.arange(n)**2\n",
    "    b=np.arange(n)**3\n",
    "    c=a+b\n",
    "    return c\n",
    "\n",
    "starttime=datetime.now()\n",
    "c=numsum(1000)\n",
    "delta=datetime.now()-starttime\n",
    "print('the last two number of the c is ',c[-2:])\n",
    "print('the time elapsed in numpy is :',delta)"
   ]
  },
  {
   "cell_type": "code",
   "execution_count": 19,
   "metadata": {},
   "outputs": [
    {
     "name": "stdout",
     "output_type": "stream",
     "text": [
      "the last 2 values is : [995007996, 998001000]\n",
      "the time taken in seconds 0:00:00.004989\n"
     ]
    }
   ],
   "source": [
    "from datetime import datetime\n",
    "def pythonsum(n):\n",
    "    a=range(n)\n",
    "    b=range(n)\n",
    "    c=[]\n",
    "    for i in range(len(a)):\n",
    "        a=i**2\n",
    "        b=i**3\n",
    "        c.append(a+b)\n",
    "    return c\n",
    "starttime=datetime.now()\n",
    "c=pythonsum(1000)\n",
    "print('the last 2 values is :',c[-2:])\n",
    "print('the time taken in seconds',datetime.now()-starttime)\n"
   ]
  },
  {
   "cell_type": "code",
   "execution_count": 21,
   "metadata": {},
   "outputs": [
    {
     "name": "stdout",
     "output_type": "stream",
     "text": [
      "0.029879999999999997\n"
     ]
    }
   ],
   "source": [
    "a,b=.04989,.02001\n",
    "print(a-b)"
   ]
  },
  {
   "cell_type": "code",
   "execution_count": 22,
   "metadata": {},
   "outputs": [
    {
     "name": "stdout",
     "output_type": "stream",
     "text": [
      "[0 1 2 3 4]\n"
     ]
    }
   ],
   "source": [
    "a=np.arange(5)\n",
    "print(a)"
   ]
  }
 ],
 "metadata": {
  "kernelspec": {
   "display_name": "Python 3.7 (tensorflow)",
   "language": "python",
   "name": "tensorflow"
  },
  "language_info": {
   "codemirror_mode": {
    "name": "ipython",
    "version": 3
   },
   "file_extension": ".py",
   "mimetype": "text/x-python",
   "name": "python",
   "nbconvert_exporter": "python",
   "pygments_lexer": "ipython3",
   "version": "3.7.7"
  }
 },
 "nbformat": 4,
 "nbformat_minor": 4
}
