{
 "cells": [
  {
   "cell_type": "markdown",
   "metadata": {},
   "source": [
    "the morre penrose pseudo inverse can be calculated using the linalg .pinv\n",
    "the pseudo inverse is calculated  using the single value decomposition .the inv can only accept the square.but the pinv can \n",
    "accept any matrices"
   ]
  },
  {
   "cell_type": "code",
   "execution_count": 1,
   "metadata": {},
   "outputs": [],
   "source": [
    "import numpy as np"
   ]
  },
  {
   "cell_type": "code",
   "execution_count": 3,
   "metadata": {},
   "outputs": [
    {
     "data": {
      "text/plain": [
       "matrix([[-0.00555556,  0.07222222],\n",
       "        [ 0.02222222,  0.04444444],\n",
       "        [ 0.05555556, -0.05555556]])"
      ]
     },
     "execution_count": 3,
     "metadata": {},
     "output_type": "execute_result"
    }
   ],
   "source": [
    "A = np.mat(\"4 11 14;8 7 -2\")\n",
    "C=np.linalg.pinv(A)\n",
    "C"
   ]
  },
  {
   "cell_type": "code",
   "execution_count": 4,
   "metadata": {},
   "outputs": [
    {
     "data": {
      "text/plain": [
       "matrix([[1.00000000e+00, 0.00000000e+00],\n",
       "        [8.32667268e-17, 1.00000000e+00]])"
      ]
     },
     "execution_count": 4,
     "metadata": {},
     "output_type": "execute_result"
    }
   ],
   "source": [
    "#to check  whether the result is correct or not\n",
    "# we can do\n",
    "np.dot(A,C)\n",
    "#the result matrix is an approximate identiy matrix ,so the C matrix is the approximate solution\n"
   ]
  },
  {
   "cell_type": "markdown",
   "metadata": {},
   "source": [
    "Determinant"
   ]
  },
  {
   "cell_type": "markdown",
   "metadata": {},
   "source": [
    "the determinant of the matrix is the value associated with the square matrix.\n",
    "for n*n real value of a matrix ,the determinant corresponds to the scaling the n dimensional volume undergoes under transformation.the positive sign means the volume preserves it orientaion(clockwise or anti).the negative means \n",
    "the orientatin is reversed.\n",
    "the numpy.linalg.det is used to calculate the determinant\n"
   ]
  },
  {
   "cell_type": "code",
   "execution_count": 5,
   "metadata": {},
   "outputs": [
    {
     "data": {
      "text/plain": [
       "-2.0000000000000013"
      ]
     },
     "execution_count": 5,
     "metadata": {},
     "output_type": "execute_result"
    }
   ],
   "source": [
    "S=np.mat('3 4;5 6')\n",
    "np.linalg.det(S)"
   ]
  },
  {
   "cell_type": "markdown",
   "metadata": {},
   "source": [
    "fast fourier transform\n",
    "The fast Fourier transform (FFT) is an efficient algorithm to calculate the discrete Fourier\n",
    "transform (DFT). FFT improves on more naïve algorithms and is of order O(NlogN). DFT has\n",
    "applications in signal processing, image processing, solving partial differential equations,\n",
    "and more. NumPy has a module called fft that offers fast Fourier transform functionality.\n",
    "A lot of the functions in this module are paired; this means that, for many functions, there is\n",
    "a function that does the inverse operation. For instance, the fft and ifft functions form\n",
    "such a pair."
   ]
  },
  {
   "cell_type": "code",
   "execution_count": 11,
   "metadata": {},
   "outputs": [
    {
     "data": {
      "text/plain": [
       "array([ 0. ,  2.5,  5. ,  7.5, 10. ])"
      ]
     },
     "execution_count": 11,
     "metadata": {},
     "output_type": "execute_result"
    }
   ],
   "source": [
    "x=np.linspace(0,10,num=5)\n",
    "x"
   ]
  },
  {
   "cell_type": "code",
   "execution_count": null,
   "metadata": {},
   "outputs": [],
   "source": [
    "#the linespace is similar to arange except the step is not a single at a time\n"
   ]
  },
  {
   "cell_type": "code",
   "execution_count": 18,
   "metadata": {},
   "outputs": [
    {
     "name": "stdout",
     "output_type": "stream",
     "text": [
      "np.all(np.abs(np.fft.ifft(transformed) - wave) < 10 ** -9)\n"
     ]
    },
    {
     "name": "stderr",
     "output_type": "stream",
     "text": [
      "C:\\Users\\Anil Shrestha\\miniconda3\\envs\\tensorflow\\lib\\site-packages\\numpy\\core\\_asarray.py:85: ComplexWarning: Casting complex values to real discards the imaginary part\n",
      "  return array(a, dtype, copy=False, order=order)\n"
     ]
    },
    {
     "data": {
      "image/png": "[encoded data removed]",
      "text/plain": [
       "<Figure size 432x288 with 1 Axes>"
      ]
     },
     "metadata": {
      "needs_background": "light"
     },
     "output_type": "display_data"
    }
   ],
   "source": [
    "from matplotlib.pyplot import show,plot\n",
    "y=np.linspace(0,2*np.pi,30)\n",
    "wave=np.cos(y)\n",
    "transformed = np.fft.fft(wave)#transform the cosine wave with fft\n",
    "print('np.all(np.abs(np.fft.ifft(transformed) - wave) < 10 ** -9)')#Apply the inverse transform with the ifft function. It should approximately return\n",
    "# the original signal.\n",
    "plot(transformed)\n",
    "show()"
   ]
  },
  {
   "cell_type": "markdown",
   "metadata": {},
   "source": [
    "the random numbers are used in the simulation like the montecarlo,the stocastic process,calculas and many more.the real random\n",
    "numbers are hard to generate but the pseudo random numbers can be easily generated.the random number can be generated form\n",
    "diffrent algorith and through the continous and the discreste random series.the common discrete series are the \n",
    "binomial series,the geometrical, distributin.\n"
   ]
  },
  {
   "cell_type": "code",
   "execution_count": 27,
   "metadata": {},
   "outputs": [
    {
     "data": {
      "text/plain": [
       "(10000,)"
      ]
     },
     "execution_count": 27,
     "metadata": {},
     "output_type": "execute_result"
    }
   ],
   "source": [
    "\n",
    "cash\n",
    "type(cash)\n",
    "cash.ndim\n",
    "cash.shape"
   ]
  },
  {
   "cell_type": "code",
   "execution_count": 48,
   "metadata": {},
   "outputs": [
    {
     "name": "stdout",
     "output_type": "stream",
     "text": [
      "0\n",
      "9\n"
     ]
    },
    {
     "ename": "ValueError",
     "evalue": "The truth value of an array with more than one element is ambiguous. Use a.any() or a.all()",
     "output_type": "error",
     "traceback": [
      "\u001b[1;31m---------------------------------------------------------------------------\u001b[0m",
      "\u001b[1;31mValueError\u001b[0m                                Traceback (most recent call last)",
      "\u001b[1;32m<ipython-input-48-eb1f118a2caa>\u001b[0m in \u001b[0;36m<module>\u001b[1;34m\u001b[0m\n\u001b[0;32m     12\u001b[0m \u001b[0mprint\u001b[0m\u001b[1;33m(\u001b[0m\u001b[0moutcome\u001b[0m\u001b[1;33m.\u001b[0m\u001b[0mmin\u001b[0m\u001b[1;33m(\u001b[0m\u001b[1;33m)\u001b[0m\u001b[1;33m)\u001b[0m\u001b[1;33m\u001b[0m\u001b[1;33m\u001b[0m\u001b[0m\n\u001b[0;32m     13\u001b[0m \u001b[0mprint\u001b[0m\u001b[1;33m(\u001b[0m\u001b[0moutcome\u001b[0m\u001b[1;33m.\u001b[0m\u001b[0mmax\u001b[0m\u001b[1;33m(\u001b[0m\u001b[1;33m)\u001b[0m\u001b[1;33m)\u001b[0m\u001b[1;33m\u001b[0m\u001b[1;33m\u001b[0m\u001b[0m\n\u001b[1;32m---> 14\u001b[1;33m \u001b[0mplot\u001b[0m\u001b[1;33m(\u001b[0m\u001b[0mnp\u001b[0m\u001b[1;33m.\u001b[0m\u001b[0marange\u001b[0m\u001b[1;33m(\u001b[0m\u001b[0mlen\u001b[0m\u001b[1;33m(\u001b[0m\u001b[0mcash\u001b[0m\u001b[1;33m)\u001b[0m\u001b[1;33m,\u001b[0m\u001b[0mcash\u001b[0m\u001b[1;33m)\u001b[0m\u001b[1;33m)\u001b[0m\u001b[1;33m\u001b[0m\u001b[1;33m\u001b[0m\u001b[0m\n\u001b[0m",
      "\u001b[1;31mValueError\u001b[0m: The truth value of an array with more than one element is ambiguous. Use a.any() or a.all()"
     ]
    }
   ],
   "source": [
    "from matplotlib.pyplot import show,plot\n",
    "cash=np.zeros(10000)\n",
    "cash[0]=1000\n",
    "outcome=np.random.binomial(9,0.5,size=len(cash))\n",
    "for i in range(1,len(cash)):\n",
    "    if outcome[i] <5:\n",
    "        cash[i]=cash[i-1]-1\n",
    "    elif outcome[i]<10:\n",
    "        cash[i]=cash[i-1]+1\n",
    "    else:\n",
    "        raise AssertionError('unexpected outcome',outcome)\n",
    "print(outcome.min())\n",
    "print(outcome.max())\n",
    "plot(np.arange(len(cash),cash))\n"
   ]
  },
  {
   "cell_type": "markdown",
   "metadata": {},
   "source": [
    "continous functions "
   ]
  }
 ],
 "metadata": {
  "kernelspec": {
   "display_name": "Python 3.7 (tensorflow)",
   "language": "python",
   "name": "tensorflow"
  },
  "language_info": {
   "codemirror_mode": {
    "name": "ipython",
    "version": 3
   },
   "file_extension": ".py",
   "mimetype": "text/x-python",
   "name": "python",
   "nbconvert_exporter": "python",
   "pygments_lexer": "ipython3",
   "version": "3.7.7"
  }
 },
 "nbformat": 4,
 "nbformat_minor": 4
}
